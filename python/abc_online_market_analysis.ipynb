{
 "cells": [
  {
   "cell_type": "code",
   "execution_count": 36,
   "id": "d3aeda2a-6b4e-47a3-a5e6-a52a446fd693",
   "metadata": {},
   "outputs": [],
   "source": [
    "import pandas as pd\n",
    "import numpy as np\n",
    "import matplotlib.pyplot as plt\n",
    "import seaborn as sns\n",
    "%matplotlib inline"
   ]
  },
  {
   "cell_type": "code",
   "execution_count": 16,
   "id": "5a079857-c19d-4638-a619-6e28b1fe11d1",
   "metadata": {},
   "outputs": [],
   "source": [
    "df = pd.read_csv(r\"C:\\Users\\DELL\\OneDrive\\Desktop\\Data Analyst - Intern\\Day 07\\online_market.csv\")\n"
   ]
  },
  {
   "cell_type": "code",
   "execution_count": 22,
   "id": "6dee129c-85ef-4284-abdc-a9201160b59a",
   "metadata": {},
   "outputs": [
    {
     "data": {
      "text/html": [
       "<div>\n",
       "<style scoped>\n",
       "    .dataframe tbody tr th:only-of-type {\n",
       "        vertical-align: middle;\n",
       "    }\n",
       "\n",
       "    .dataframe tbody tr th {\n",
       "        vertical-align: top;\n",
       "    }\n",
       "\n",
       "    .dataframe thead th {\n",
       "        text-align: right;\n",
       "    }\n",
       "</style>\n",
       "<table border=\"1\" class=\"dataframe\">\n",
       "  <thead>\n",
       "    <tr style=\"text-align: right;\">\n",
       "      <th></th>\n",
       "      <th>transaction_id</th>\n",
       "      <th>order_date</th>\n",
       "      <th>product_category</th>\n",
       "      <th>product_id</th>\n",
       "      <th>product_name</th>\n",
       "      <th>units_sold</th>\n",
       "      <th>unit_price</th>\n",
       "      <th>total_revenue</th>\n",
       "      <th>region</th>\n",
       "      <th>payment_method</th>\n",
       "    </tr>\n",
       "  </thead>\n",
       "  <tbody>\n",
       "    <tr>\n",
       "      <th>0</th>\n",
       "      <td>10001</td>\n",
       "      <td>10/8/2024</td>\n",
       "      <td>Home Appliances</td>\n",
       "      <td>179</td>\n",
       "      <td>Dyson V11 Vacuum</td>\n",
       "      <td>4</td>\n",
       "      <td>213.35</td>\n",
       "      <td>853.40</td>\n",
       "      <td>Europe</td>\n",
       "      <td>Debit Card</td>\n",
       "    </tr>\n",
       "    <tr>\n",
       "      <th>1</th>\n",
       "      <td>10002</td>\n",
       "      <td>3/20/2024</td>\n",
       "      <td>Books</td>\n",
       "      <td>105</td>\n",
       "      <td>Harry Potter</td>\n",
       "      <td>4</td>\n",
       "      <td>25.13</td>\n",
       "      <td>100.52</td>\n",
       "      <td>Europe</td>\n",
       "      <td>Debit Card</td>\n",
       "    </tr>\n",
       "    <tr>\n",
       "      <th>2</th>\n",
       "      <td>10003</td>\n",
       "      <td>7/29/2024</td>\n",
       "      <td>Books</td>\n",
       "      <td>153</td>\n",
       "      <td>Atomic Habits</td>\n",
       "      <td>5</td>\n",
       "      <td>774.46</td>\n",
       "      <td>3872.30</td>\n",
       "      <td>Asia</td>\n",
       "      <td>Debit Card</td>\n",
       "    </tr>\n",
       "    <tr>\n",
       "      <th>3</th>\n",
       "      <td>10004</td>\n",
       "      <td>12/24/2024</td>\n",
       "      <td>Books</td>\n",
       "      <td>120</td>\n",
       "      <td>Harry Potter</td>\n",
       "      <td>1</td>\n",
       "      <td>40.47</td>\n",
       "      <td>40.47</td>\n",
       "      <td>Europe</td>\n",
       "      <td>Credit Card</td>\n",
       "    </tr>\n",
       "    <tr>\n",
       "      <th>4</th>\n",
       "      <td>10005</td>\n",
       "      <td>3/31/2024</td>\n",
       "      <td>Clothing</td>\n",
       "      <td>187</td>\n",
       "      <td>Nike Air Max</td>\n",
       "      <td>4</td>\n",
       "      <td>2459.19</td>\n",
       "      <td>9836.76</td>\n",
       "      <td>Europe</td>\n",
       "      <td>Credit Card</td>\n",
       "    </tr>\n",
       "  </tbody>\n",
       "</table>\n",
       "</div>"
      ],
      "text/plain": [
       "   transaction_id  order_date product_category  product_id      product_name  \\\n",
       "0           10001   10/8/2024  Home Appliances         179  Dyson V11 Vacuum   \n",
       "1           10002   3/20/2024            Books         105     Harry Potter    \n",
       "2           10003   7/29/2024            Books         153     Atomic Habits   \n",
       "3           10004  12/24/2024            Books         120      Harry Potter   \n",
       "4           10005   3/31/2024         Clothing         187      Nike Air Max   \n",
       "\n",
       "   units_sold  unit_price  total_revenue region  payment_method  \n",
       "0           4      213.35         853.40  Europe     Debit Card  \n",
       "1           4       25.13         100.52  Europe     Debit Card  \n",
       "2           5      774.46        3872.30    Asia     Debit Card  \n",
       "3           1       40.47          40.47  Europe    Credit Card  \n",
       "4           4     2459.19        9836.76  Europe    Credit Card  "
      ]
     },
     "execution_count": 22,
     "metadata": {},
     "output_type": "execute_result"
    }
   ],
   "source": [
    "df.head()"
   ]
  },
  {
   "cell_type": "code",
   "execution_count": 17,
   "id": "7ac3af63-aa9e-4ab5-a0c2-70559a854f57",
   "metadata": {},
   "outputs": [
    {
     "name": "stdout",
     "output_type": "stream",
     "text": [
      "Initial Shape: (1000, 10)\n",
      "Column Types:\n",
      " transaction_id        int64\n",
      "order_date           object\n",
      "product_category     object\n",
      "product_id            int64\n",
      " product_name        object\n",
      "units_sold            int64\n",
      "unit_price          float64\n",
      "total_revenue       float64\n",
      "region               object\n",
      "payment_method       object\n",
      "dtype: object\n",
      "Missing Values:\n",
      " transaction_id      0\n",
      "order_date          0\n",
      "product_category    0\n",
      "product_id          0\n",
      " product_name       0\n",
      "units_sold          0\n",
      "unit_price          0\n",
      "total_revenue       0\n",
      "region              0\n",
      "payment_method      0\n",
      "dtype: int64\n"
     ]
    }
   ],
   "source": [
    "print(\"Initial Shape:\", df.shape)\n",
    "print(\"Column Types:\\n\", df.dtypes)\n",
    "print(\"Missing Values:\\n\", df.isnull().sum())"
   ]
  },
  {
   "cell_type": "code",
   "execution_count": 19,
   "id": "2d633709-c48a-4c0f-93c4-e44650de3581",
   "metadata": {},
   "outputs": [],
   "source": [
    "df = df.drop_duplicates()\n"
   ]
  },
  {
   "cell_type": "code",
   "execution_count": 27,
   "id": "43e7bcdf-9420-4703-a5ac-beb96ae5adfc",
   "metadata": {},
   "outputs": [
    {
     "data": {
      "text/html": [
       "<div>\n",
       "<style scoped>\n",
       "    .dataframe tbody tr th:only-of-type {\n",
       "        vertical-align: middle;\n",
       "    }\n",
       "\n",
       "    .dataframe tbody tr th {\n",
       "        vertical-align: top;\n",
       "    }\n",
       "\n",
       "    .dataframe thead th {\n",
       "        text-align: right;\n",
       "    }\n",
       "</style>\n",
       "<table border=\"1\" class=\"dataframe\">\n",
       "  <thead>\n",
       "    <tr style=\"text-align: right;\">\n",
       "      <th></th>\n",
       "      <th>transaction_id</th>\n",
       "      <th>order_date</th>\n",
       "      <th>product_category</th>\n",
       "      <th>product_id</th>\n",
       "      <th>product_name</th>\n",
       "      <th>units_sold</th>\n",
       "      <th>unit_price</th>\n",
       "      <th>total_revenue</th>\n",
       "      <th>region</th>\n",
       "      <th>payment_method</th>\n",
       "    </tr>\n",
       "  </thead>\n",
       "  <tbody>\n",
       "    <tr>\n",
       "      <th>0</th>\n",
       "      <td>False</td>\n",
       "      <td>False</td>\n",
       "      <td>False</td>\n",
       "      <td>False</td>\n",
       "      <td>False</td>\n",
       "      <td>False</td>\n",
       "      <td>False</td>\n",
       "      <td>False</td>\n",
       "      <td>False</td>\n",
       "      <td>False</td>\n",
       "    </tr>\n",
       "    <tr>\n",
       "      <th>1</th>\n",
       "      <td>False</td>\n",
       "      <td>False</td>\n",
       "      <td>False</td>\n",
       "      <td>False</td>\n",
       "      <td>False</td>\n",
       "      <td>False</td>\n",
       "      <td>False</td>\n",
       "      <td>False</td>\n",
       "      <td>False</td>\n",
       "      <td>False</td>\n",
       "    </tr>\n",
       "    <tr>\n",
       "      <th>2</th>\n",
       "      <td>False</td>\n",
       "      <td>False</td>\n",
       "      <td>False</td>\n",
       "      <td>False</td>\n",
       "      <td>False</td>\n",
       "      <td>False</td>\n",
       "      <td>False</td>\n",
       "      <td>False</td>\n",
       "      <td>False</td>\n",
       "      <td>False</td>\n",
       "    </tr>\n",
       "    <tr>\n",
       "      <th>3</th>\n",
       "      <td>False</td>\n",
       "      <td>False</td>\n",
       "      <td>False</td>\n",
       "      <td>False</td>\n",
       "      <td>False</td>\n",
       "      <td>False</td>\n",
       "      <td>False</td>\n",
       "      <td>False</td>\n",
       "      <td>False</td>\n",
       "      <td>False</td>\n",
       "    </tr>\n",
       "    <tr>\n",
       "      <th>4</th>\n",
       "      <td>False</td>\n",
       "      <td>False</td>\n",
       "      <td>False</td>\n",
       "      <td>False</td>\n",
       "      <td>False</td>\n",
       "      <td>False</td>\n",
       "      <td>False</td>\n",
       "      <td>False</td>\n",
       "      <td>False</td>\n",
       "      <td>False</td>\n",
       "    </tr>\n",
       "    <tr>\n",
       "      <th>...</th>\n",
       "      <td>...</td>\n",
       "      <td>...</td>\n",
       "      <td>...</td>\n",
       "      <td>...</td>\n",
       "      <td>...</td>\n",
       "      <td>...</td>\n",
       "      <td>...</td>\n",
       "      <td>...</td>\n",
       "      <td>...</td>\n",
       "      <td>...</td>\n",
       "    </tr>\n",
       "    <tr>\n",
       "      <th>995</th>\n",
       "      <td>False</td>\n",
       "      <td>False</td>\n",
       "      <td>False</td>\n",
       "      <td>False</td>\n",
       "      <td>False</td>\n",
       "      <td>False</td>\n",
       "      <td>False</td>\n",
       "      <td>False</td>\n",
       "      <td>False</td>\n",
       "      <td>False</td>\n",
       "    </tr>\n",
       "    <tr>\n",
       "      <th>996</th>\n",
       "      <td>False</td>\n",
       "      <td>False</td>\n",
       "      <td>False</td>\n",
       "      <td>False</td>\n",
       "      <td>False</td>\n",
       "      <td>False</td>\n",
       "      <td>False</td>\n",
       "      <td>False</td>\n",
       "      <td>False</td>\n",
       "      <td>False</td>\n",
       "    </tr>\n",
       "    <tr>\n",
       "      <th>997</th>\n",
       "      <td>False</td>\n",
       "      <td>False</td>\n",
       "      <td>False</td>\n",
       "      <td>False</td>\n",
       "      <td>False</td>\n",
       "      <td>False</td>\n",
       "      <td>False</td>\n",
       "      <td>False</td>\n",
       "      <td>False</td>\n",
       "      <td>False</td>\n",
       "    </tr>\n",
       "    <tr>\n",
       "      <th>998</th>\n",
       "      <td>False</td>\n",
       "      <td>False</td>\n",
       "      <td>False</td>\n",
       "      <td>False</td>\n",
       "      <td>False</td>\n",
       "      <td>False</td>\n",
       "      <td>False</td>\n",
       "      <td>False</td>\n",
       "      <td>False</td>\n",
       "      <td>False</td>\n",
       "    </tr>\n",
       "    <tr>\n",
       "      <th>999</th>\n",
       "      <td>False</td>\n",
       "      <td>False</td>\n",
       "      <td>False</td>\n",
       "      <td>False</td>\n",
       "      <td>False</td>\n",
       "      <td>False</td>\n",
       "      <td>False</td>\n",
       "      <td>False</td>\n",
       "      <td>False</td>\n",
       "      <td>False</td>\n",
       "    </tr>\n",
       "  </tbody>\n",
       "</table>\n",
       "<p>1000 rows × 10 columns</p>\n",
       "</div>"
      ],
      "text/plain": [
       "     transaction_id  order_date  product_category  product_id   product_name  \\\n",
       "0             False       False             False       False          False   \n",
       "1             False       False             False       False          False   \n",
       "2             False       False             False       False          False   \n",
       "3             False       False             False       False          False   \n",
       "4             False       False             False       False          False   \n",
       "..              ...         ...               ...         ...            ...   \n",
       "995           False       False             False       False          False   \n",
       "996           False       False             False       False          False   \n",
       "997           False       False             False       False          False   \n",
       "998           False       False             False       False          False   \n",
       "999           False       False             False       False          False   \n",
       "\n",
       "     units_sold  unit_price  total_revenue  region   payment_method  \n",
       "0         False       False          False    False           False  \n",
       "1         False       False          False    False           False  \n",
       "2         False       False          False    False           False  \n",
       "3         False       False          False    False           False  \n",
       "4         False       False          False    False           False  \n",
       "..          ...         ...            ...      ...             ...  \n",
       "995       False       False          False    False           False  \n",
       "996       False       False          False    False           False  \n",
       "997       False       False          False    False           False  \n",
       "998       False       False          False    False           False  \n",
       "999       False       False          False    False           False  \n",
       "\n",
       "[1000 rows x 10 columns]"
      ]
     },
     "execution_count": 27,
     "metadata": {},
     "output_type": "execute_result"
    }
   ],
   "source": [
    "df.isnull()"
   ]
  },
  {
   "cell_type": "code",
   "execution_count": 24,
   "id": "26989c54-8b27-4fd1-ae84-9a1323a04c62",
   "metadata": {},
   "outputs": [],
   "source": [
    "df = df.drop_duplicates()\n"
   ]
  },
  {
   "cell_type": "code",
   "execution_count": null,
   "id": "63a22bd3-d538-4dbe-889f-b15cfb7809a0",
   "metadata": {},
   "outputs": [],
   "source": [
    "# Ensure correct type\n",
    "df[\"total_revenue\"] = pd.to_numeric(df[\"total_revenue\"], errors=\"coerce\")"
   ]
  },
  {
   "cell_type": "code",
   "execution_count": 29,
   "id": "08b62de4-932e-4c5c-b243-08936fda7c9e",
   "metadata": {},
   "outputs": [
    {
     "name": "stdout",
     "output_type": "stream",
     "text": [
      "Total Revenue: 3652901.48\n"
     ]
    }
   ],
   "source": [
    "total_revenue = df[\"total_revenue\"].sum()\n",
    "print(\"Total Revenue:\", round (total_revenue, 2))\n"
   ]
  },
  {
   "cell_type": "code",
   "execution_count": 26,
   "id": "85bf0264-6401-4f7d-96f4-66e7c3e2c80d",
   "metadata": {},
   "outputs": [
    {
     "name": "stdout",
     "output_type": "stream",
     "text": [
      "Total Units Sold: 3001\n"
     ]
    }
   ],
   "source": [
    "total_units = df[\"units_sold\"].sum()\n",
    "print(\"Total Units Sold:\", total_units)"
   ]
  },
  {
   "cell_type": "code",
   "execution_count": 28,
   "id": "e1a60f87-a2a3-4cf7-808f-9ac9aa4c5e01",
   "metadata": {},
   "outputs": [
    {
     "name": "stdout",
     "output_type": "stream",
     "text": [
      "Average Unit Price: 1226.41\n"
     ]
    }
   ],
   "source": [
    "avg_price = df[\"unit_price\"].mean()\n",
    "print(\"Average Unit Price:\", round(avg_price, 2))\n"
   ]
  },
  {
   "cell_type": "code",
   "execution_count": 30,
   "id": "17ec843b-b7b4-48f5-b764-9f39897cd19f",
   "metadata": {},
   "outputs": [
    {
     "name": "stdout",
     "output_type": "stream",
     "text": [
      "Average Order Revenue: 3652.9\n"
     ]
    }
   ],
   "source": [
    "avg_order_revenue = df[\"total_revenue\"].mean()\n",
    "print(\"Average Order Revenue:\", round(avg_order_revenue, 2))"
   ]
  },
  {
   "cell_type": "code",
   "execution_count": 46,
   "id": "88a8ac86-b649-4f3b-9893-c1a799bd1945",
   "metadata": {},
   "outputs": [
    {
     "name": "stdout",
     "output_type": "stream",
     "text": [
      "Index(['transaction_id', 'order_date', 'product_category', 'product_id',\n",
      "       ' product_name', 'units_sold', 'unit_price', 'total_revenue', 'region ',\n",
      "       'payment_method'],\n",
      "      dtype='object')\n"
     ]
    }
   ],
   "source": [
    "print(df.columns)\n"
   ]
  },
  {
   "cell_type": "code",
   "execution_count": 52,
   "id": "50d519eb-93ac-43c5-89e9-66c4bc4fec40",
   "metadata": {},
   "outputs": [],
   "source": [
    "# Strip spaces from column headers\n",
    "df.columns = df.columns.str.strip()\n"
   ]
  },
  {
   "cell_type": "code",
   "execution_count": 53,
   "id": "000e2639-4275-43aa-8c8d-edaf810aa77a",
   "metadata": {},
   "outputs": [
    {
     "name": "stdout",
     "output_type": "stream",
     "text": [
      "\n",
      "Revenue by Region:\n",
      " region\n",
      "Asia             1322199.96\n",
      "Europe           1187035.08\n",
      "North America    1143666.44\n",
      "Name: total_revenue, dtype: float64\n"
     ]
    }
   ],
   "source": [
    "revenue_by_region = df.groupby(\"region\")[\"total_revenue\"].sum()\n",
    "print(\"\\nRevenue by Region:\\n\", revenue_by_region)"
   ]
  },
  {
   "cell_type": "code",
   "execution_count": 54,
   "id": "500ee261-d841-494d-a5de-4fc265cd1d9a",
   "metadata": {},
   "outputs": [
    {
     "name": "stdout",
     "output_type": "stream",
     "text": [
      "Revenue by Category: product_category\n",
      "Beauty Products    697149.92\n",
      "Books              549623.64\n",
      "Clothing           617992.15\n",
      "Electronics        607751.00\n",
      "Home Appliances    565481.77\n",
      "Sports             614903.00\n",
      "Name: total_revenue, dtype: float64\n"
     ]
    }
   ],
   "source": [
    "revenue_by_category = df.groupby(\"product_category\")[\"total_revenue\"].sum()\n",
    "print(\"Revenue by Category:\", revenue_by_category)\n"
   ]
  },
  {
   "cell_type": "code",
   "execution_count": 55,
   "id": "449169d4-4368-4890-ba92-a7ff5fc7a33c",
   "metadata": {},
   "outputs": [
    {
     "name": "stdout",
     "output_type": "stream",
     "text": [
      "\n",
      "Top 5 Products by Revenue:\n",
      " product_name\n",
      "Neutrogena Skincare Set        261892.90\n",
      "Levi's 501 Jeans               249473.62\n",
      "Dove Soap Pack                 237087.81\n",
      "Wilson Evolution Basketball    219294.01\n",
      "Dyson V11 Vacuum               216677.80\n",
      "Name: total_revenue, dtype: float64\n"
     ]
    }
   ],
   "source": [
    "top_products = df.groupby(\"product_name\")[\"total_revenue\"].sum().sort_values(ascending=False).head(5)\n",
    "print(\"\\nTop 5 Products by Revenue:\\n\", top_products)\n"
   ]
  },
  {
   "cell_type": "code",
   "execution_count": 57,
   "id": "9873ce25-db2b-4115-b81a-e3c9a0aee018",
   "metadata": {},
   "outputs": [],
   "source": [
    "# Make sure order_date is datetime\n",
    "df[\"order_date\"] = pd.to_datetime(df[\"order_date\"], errors=\"coerce\")\n"
   ]
  },
  {
   "cell_type": "code",
   "execution_count": 60,
   "id": "41b7851e-6fa4-40ff-b9c4-343a6214f52c",
   "metadata": {},
   "outputs": [
    {
     "name": "stdout",
     "output_type": "stream",
     "text": [
      "\n",
      "Monthly Revenue Trend:\n",
      " order_date\n",
      "2024-01    277490.85\n",
      "2024-02    248909.15\n",
      "2024-03    337418.96\n",
      "2024-04    300685.34\n",
      "2024-05    334803.06\n",
      "2024-06    313091.44\n",
      "2024-07    309116.77\n",
      "2024-08    236960.87\n",
      "2024-09    339793.18\n",
      "2024-10    289149.31\n",
      "2024-11    307300.39\n",
      "2024-12    358182.16\n",
      "Freq: M, Name: total_revenue, dtype: float64\n"
     ]
    }
   ],
   "source": [
    "# Group by month from order_date\n",
    "monthly_revenue = df.groupby(df[\"order_date\"].dt.to_period(\"M\"))[\"total_revenue\"].sum()\n",
    "print(\"\\nMonthly Revenue Trend:\\n\", monthly_revenue)\n"
   ]
  },
  {
   "cell_type": "code",
   "execution_count": 59,
   "id": "2e249e21-f718-4ab3-a10f-e1ad0d88ac05",
   "metadata": {},
   "outputs": [
    {
     "name": "stdout",
     "output_type": "stream",
     "text": [
      "\n",
      "Monthly Revenue Trend:\n",
      " order_date\n",
      "2024-01    277490.85\n",
      "2024-02    248909.15\n",
      "2024-03    337418.96\n",
      "2024-04    300685.34\n",
      "2024-05    334803.06\n",
      "2024-06    313091.44\n",
      "2024-07    309116.77\n",
      "2024-08    236960.87\n",
      "2024-09    339793.18\n",
      "2024-10    289149.31\n",
      "2024-11    307300.39\n",
      "2024-12    358182.16\n",
      "Freq: M, Name: total_revenue, dtype: float64\n"
     ]
    }
   ],
   "source": []
  },
  {
   "cell_type": "code",
   "execution_count": null,
   "id": "3a772835-a9b7-44df-8ca1-d1a2a835e8bc",
   "metadata": {},
   "outputs": [],
   "source": []
  }
 ],
 "metadata": {
  "kernelspec": {
   "display_name": "Python 3 (ipykernel)",
   "language": "python",
   "name": "python3"
  },
  "language_info": {
   "codemirror_mode": {
    "name": "ipython",
    "version": 3
   },
   "file_extension": ".py",
   "mimetype": "text/x-python",
   "name": "python",
   "nbconvert_exporter": "python",
   "pygments_lexer": "ipython3",
   "version": "3.13.5"
  }
 },
 "nbformat": 4,
 "nbformat_minor": 5
}
